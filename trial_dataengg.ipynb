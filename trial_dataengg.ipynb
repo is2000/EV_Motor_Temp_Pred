{
 "cells": [
  {
   "cell_type": "code",
   "execution_count": 41,
   "id": "c5d47d7b",
   "metadata": {},
   "outputs": [],
   "source": [
    "using Statistics\n",
    "using MAT"
   ]
  },
  {
   "cell_type": "code",
   "execution_count": 42,
   "id": "34207c27",
   "metadata": {},
   "outputs": [
    {
     "data": {
      "text/plain": [
       "load_data (generic function with 1 method)"
      ]
     },
     "metadata": {},
     "output_type": "display_data"
    }
   ],
   "source": [
    "# Load data\n",
    "function load_data()\n",
    "    println(\"Loading data...\")\n",
    "    data = matread(\"train_data_play.mat\")\n",
    "    U = data[\"U\"]\n",
    "    X = data[\"X\"]\n",
    "    measurement_series = data[\"measurement_series\"]\n",
    "    dt = data[\"dt\"]\n",
    "    println(\"Data loaded: $(size(U)) inputs, $(size(X)) states\")\n",
    "    return U, X, measurement_series, dt\n",
    "end"
   ]
  },
  {
   "cell_type": "code",
   "execution_count": 43,
   "id": "c90559ed",
   "metadata": {},
   "outputs": [
    {
     "data": {
      "text/plain": [
       "prepare_sequences (generic function with 1 method)"
      ]
     },
     "metadata": {},
     "output_type": "display_data"
    }
   ],
   "source": [
    "include(\"utils.jl\")\n",
    "# Data preparation\n",
    "function prepare_sequences(U_raw, X_raw, measurement_series, series_indices; max_length=8000)\n",
    "    sequences = []\n",
    "\n",
    "    #Extraction\n",
    "    for series_idx in series_indices\n",
    "        u_series = Float32.(extract(U_raw, measurement_series, series_idx))\n",
    "        x_series = Float32.(extract(X_raw, measurement_series, series_idx))\n",
    "\n",
    "        # Limiting length of sequences\n",
    "        T = min(size(x_series, 1), max_length)\n",
    "\n",
    "        sequence = Dict(\n",
    "            \"U\" => u_series[1:T, :],     # [T × 21] inputs\n",
    "            \"X\" => x_series[1:T, :],     # [T × 2] ground truth\n",
    "            \"x0\" => x_series[1, :],      # [2] initial state\n",
    "            \"T\" => T,\n",
    "            \"series_idx\" => series_idx\n",
    "        )\n",
    "\n",
    "        push!(sequences, sequence)\n",
    "        println(\"Series $series_idx: $T timesteps\")\n",
    "    end\n",
    "\n",
    "    return sequences\n",
    "end\n"
   ]
  },
  {
   "cell_type": "code",
   "execution_count": null,
   "id": "4f67953a",
   "metadata": {},
   "outputs": [
    {
     "data": {
      "text/plain": [
       "clean_data (generic function with 1 method)"
      ]
     },
     "metadata": {},
     "output_type": "display_data"
    }
   ],
   "source": [
    "function clean_data(U, X)\n",
    "    println(\"Starting data cleaning:\")\n",
    "    println(\"Original data shapes: U=$(size(U)), X=$(size(X))\")\n",
    "    \n",
    "    U_clean = copy(U)\n",
    "    X_clean = copy(X)\n",
    "    \n",
    "    # Replace NaNs with interpolated values\n",
    "    nan_mask_U = any(isnan.(U_clean), dims=2)[:]\n",
    "    nan_mask_X = any(isnan.(X_clean), dims=2)[:]\n",
    "    combined_nan_mask = nan_mask_U .| nan_mask_X\n",
    "    \n",
    "    if sum(combined_nan_mask) > 0\n",
    "        println(\"Found $(sum(combined_nan_mask)) rows with NaN values\")\n",
    "         U_clean = interpolate_missing(U_clean)\n",
    "         X_clean = interpolate_missing(X_clean)\n",
    "    end\n",
    "    \n",
    "    # Remove outliers using IQR method\n",
    "    #U_clean, X_clean = remove_outliers_iqr(U_clean, X_clean)\n",
    "    \n",
    "    # Smooth noisy signals\n",
    "    X_clean = apply_smoothing(X_clean, 3)  \n",
    "    \n",
    "    # Handle physically unrealistic values\n",
    "    U_clean, X_clean = fix_unrealistic_values(U_clean, X_clean)\n",
    "    \n",
    "    # Remove duplicate consecutive measurements\n",
    "   # U_clean, X_clean = remove_duplicates(U_clean, X_clean)\n",
    "    \n",
    "    # Check for data consistency\n",
    "    check_data_consistency(U_clean, X_clean)\n",
    "    \n",
    "    println(\"Data cleaning completed.\")\n",
    "    println(\"Cleaned data shapes: U=$(size(U_clean)), X=$(size(X_clean))\")\n",
    "    \n",
    "    return U_clean, X_clean\n",
    "end\n"
   ]
  },
  {
   "cell_type": "code",
   "execution_count": null,
   "id": "4c88cd50",
   "metadata": {},
   "outputs": [],
   "source": [
    "\n",
    "function remove_outliers_iqr(U, X, factor=3)\n",
    "    \"\"\"Remove outliers using Interquartile Range method\"\"\"\n",
    "    \n",
    "    # Calculate outliers for each feature\n",
    "    outlier_mask = falses(size(U, 1))\n",
    "    \n",
    "    # Check U features\n",
    "    for i in 1:size(U, 2)\n",
    "        q1 = quantile(U[:, i], 0.25)\n",
    "        q3 = quantile(U[:, i], 0.75)\n",
    "        iqr = q3 - q1\n",
    "        lower_bound = q1 - factor * iqr\n",
    "        upper_bound = q3 + factor * iqr\n",
    "        \n",
    "        feature_outliers = (U[:, i] .< lower_bound) .| (U[:, i] .> upper_bound)\n",
    "        outlier_mask .|= feature_outliers\n",
    "    end\n",
    "    \n",
    "    # Check X features (temperatures)\n",
    "    for i in 1:size(X, 2)\n",
    "        q1 = quantile(X[:, i], 0.25)\n",
    "        q3 = quantile(X[:, i], 0.75)\n",
    "        iqr = q3 - q1\n",
    "        lower_bound = q1 - factor * iqr\n",
    "        upper_bound = q3 + factor * iqr\n",
    "        \n",
    "        feature_outliers = (X[:, i] .< lower_bound) .| (X[:, i] .> upper_bound)\n",
    "        outlier_mask .|= feature_outliers\n",
    "    end\n",
    "    \n",
    "    outliers_removed = sum(outlier_mask)\n",
    "    if outliers_removed > 0\n",
    "        println(\"Removed $outliers_removed outlier points\")\n",
    "        return U[.!outlier_mask, :], X[.!outlier_mask, :]\n",
    "    end\n",
    "    \n",
    "    return U, X\n",
    "end\n"
   ]
  },
  {
   "cell_type": "code",
   "execution_count": null,
   "id": "b8c5e209",
   "metadata": {},
   "outputs": [
    {
     "data": {
      "text/plain": [
       "apply_smoothing (generic function with 2 methods)"
      ]
     },
     "metadata": {},
     "output_type": "display_data"
    }
   ],
   "source": [
    "function apply_smoothing(X, window_size=3)\n",
    "    \"\"\"Apply moving average smoothing to temperature data\"\"\"\n",
    "    X_smooth = copy(X)\n",
    "    \n",
    "    for i in 1:size(X, 2)\n",
    "        for j in (window_size÷2 + 1):(size(X, 1) - window_size÷2) \n",
    "            start_idx = j - window_size÷2\n",
    "            end_idx = j + window_size÷2\n",
    "            X_smooth[j, i] = mean(X[start_idx:end_idx, i])\n",
    "        end\n",
    "    end\n",
    "    \n",
    "    println(\"Applied smoothing with window size $window_size\")\n",
    "    return X_smooth\n",
    "end"
   ]
  },
  {
   "cell_type": "code",
   "execution_count": null,
   "id": "cb5c44cc",
   "metadata": {},
   "outputs": [
    {
     "data": {
      "text/plain": [
       "fix_unrealistic_values (generic function with 1 method)"
      ]
     },
     "metadata": {},
     "output_type": "display_data"
    }
   ],
   "source": [
    "\n",
    "function fix_unrealistic_values(U, X)\n",
    "    \"\"\"Fix physically unrealistic values based on domain knowledge\"\"\"\n",
    "    U_clean = copy(U)\n",
    "    X_clean = copy(X)\n",
    "    \n",
    "    # Temperature bounds\n",
    "    min_temp = -40.0  \n",
    "    max_temp = 200.0  \n",
    "    \n",
    "    # Clamp temperatures to realistic ranges\n",
    "    X_clean[:, 1] = clamp.(X_clean[:, 1], min_temp, max_temp)  # Stator temp\n",
    "    X_clean[:, 2] = clamp.(X_clean[:, 2], min_temp, max_temp)  # Rotor temp\n",
    "    \n",
    "    # Fix RPM (should be non-negative, reasonable upper bound)\n",
    "    U_clean[:, 1] = clamp.(U_clean[:, 1], 0.0, 20000.0)  # RPM\n",
    "    \n",
    "    # Fix voltage values (reasonable bounds)\n",
    "    U_clean[:, 8] = clamp.(U_clean[:, 8], -600.0, 600.0)   # u_d voltage\n",
    "    U_clean[:, 10] = clamp.(U_clean[:, 10], -600.0, 600.0) # u_q voltage\n",
    "    U_clean[:, 13] = clamp.(U_clean[:, 13], 0.0, 1000.0)     # DC link voltage\n",
    "    \n",
    "    # Fix current values (reasonable bounds)\n",
    "    for current_idx in [4, 5, 7]  # i_d, i_q, RMS current\n",
    "        U_clean[:, current_idx] = clamp.(U_clean[:, current_idx], -500.0, 500.0)\n",
    "    end\n",
    "    \n",
    "    # Fix oil flow rates (should be non-negative)\n",
    "    U_clean[:, 16] = clamp.(U_clean[:, 16], 0.0, 100.0)  # Rotor oil flow\n",
    "    U_clean[:, 17] = clamp.(U_clean[:, 17], 0.0, 100.0)  # Stator oil flow\n",
    "    \n",
    "    # Fix oil temperatures\n",
    "    for oil_temp_idx in [18, 19, 20, 21]\n",
    "        U_clean[:, oil_temp_idx] = clamp.(U_clean[:, oil_temp_idx], -20.0, 150.0)\n",
    "    end\n",
    "    \n",
    "    println(\"Applied realistic value constraints\")\n",
    "    return U_clean, X_clean\n",
    "end\n"
   ]
  },
  {
   "cell_type": "code",
   "execution_count": null,
   "id": "6b505c29",
   "metadata": {},
   "outputs": [],
   "source": [
    "\n",
    "function remove_duplicates(U, X, tolerance=1e-6)\n",
    "    \"\"\"Remove consecutive duplicate measurements\"\"\"\n",
    "    keep_mask = trues(size(U, 1))\n",
    "    \n",
    "    for i in 2:size(U, 1)\n",
    "        # Check if current row is essentially identical to previous row\n",
    "        u_diff = maximum(abs.(U[i, :] - U[i-1, :]))\n",
    "        x_diff = maximum(abs.(X[i, :] - X[i-1, :]))\n",
    "        \n",
    "        if u_diff < tolerance && x_diff < tolerance\n",
    "            keep_mask[i] = false\n",
    "        end\n",
    "    end\n",
    "    \n",
    "    duplicates_removed = sum(.!keep_mask)\n",
    "    if duplicates_removed > 0\n",
    "        println(\"Removed $duplicates_removed duplicate consecutive measurements\")\n",
    "        return U[keep_mask, :], X[keep_mask, :]\n",
    "    end\n",
    "    \n",
    "    return U, X\n",
    "end\n"
   ]
  },
  {
   "cell_type": "code",
   "execution_count": 47,
   "id": "62737fc3",
   "metadata": {},
   "outputs": [
    {
     "data": {
      "text/plain": [
       "check_data_consistency (generic function with 1 method)"
      ]
     },
     "metadata": {},
     "output_type": "display_data"
    }
   ],
   "source": [
    "\n",
    "function check_data_consistency(U, X)\n",
    "    \"\"\"Check for data consistency and report potential issues\"\"\"\n",
    "    println(\"\\n=== Data Consistency Check ===\")\n",
    "    \n",
    "    # Check for extreme jumps in temperature (might indicate sensor issues)\n",
    "    for i in 2:size(X, 1)\n",
    "        temp_jump_stator = abs(X[i, 1] - X[i-1, 1])\n",
    "        temp_jump_rotor = abs(X[i, 2] - X[i-1, 2])\n",
    "        \n",
    "        if temp_jump_stator > 20.0\n",
    "            println(\"Warning: Large stator temperature jump at index $i: $(temp_jump_stator)°C\")\n",
    "        end\n",
    "        if temp_jump_rotor > 20.0\n",
    "            println(\"Warning: Large rotor temperature jump at index $i: $(temp_jump_rotor)°C\")\n",
    "        end\n",
    "    end\n",
    "    \n",
    "    # Check correlation between related variables\n",
    "    rpm_torque_corr = cor(U[:, 1], U[:, 2])  # RPM vs Torque\n",
    "    println(\"RPM-Torque correlation: $(round(rpm_torque_corr, digits=3))\")\n",
    "    \n",
    "    stator_rotor_corr = cor(X[:, 1], X[:, 2])  # Stator vs Rotor temp\n",
    "    println(\"Stator-Rotor temperature correlation: $(round(stator_rotor_corr, digits=3))\")\n",
    "    \n",
    "    # Check for zero-variance features\n",
    "    for i in 1:size(U, 2)\n",
    "        if var(U[:, i]) < 1e-10\n",
    "            println(\"Warning: Feature $i (U) has very low variance\")\n",
    "        end\n",
    "    end\n",
    "    \n",
    "    println(\"=== End Consistency Check ===\\n\")\n",
    "end\n"
   ]
  },
  {
   "cell_type": "code",
   "execution_count": 48,
   "id": "f005ea77",
   "metadata": {},
   "outputs": [
    {
     "data": {
      "text/plain": [
       "interpolate_missing (generic function with 1 method)"
      ]
     },
     "metadata": {},
     "output_type": "display_data"
    }
   ],
   "source": [
    "\n",
    "function interpolate_missing(data)\n",
    "    \"\"\"Simple linear interpolation for missing values\"\"\"\n",
    "    data_clean = copy(data)\n",
    "    \n",
    "    for col in 1:size(data, 2)\n",
    "        nan_indices = findall(isnan, data[:, col])\n",
    "        \n",
    "        if !isempty(nan_indices)\n",
    "            valid_indices = findall(.!isnan.(data[:, col]))\n",
    "            \n",
    "            if length(valid_indices) >= 2\n",
    "                # Linear interpolation\n",
    "                for nan_idx in nan_indices\n",
    "                    # Find nearest valid values\n",
    "                    before_idx = findlast(x -> x < nan_idx, valid_indices)\n",
    "                    after_idx = findfirst(x -> x > nan_idx, valid_indices)\n",
    "                    \n",
    "                    if !isnothing(before_idx) && !isnothing(after_idx)\n",
    "                        before_pos = valid_indices[before_idx]\n",
    "                        after_pos = valid_indices[after_idx]\n",
    "                        \n",
    "                        # Linear interpolation\n",
    "                        weight = (nan_idx - before_pos) / (after_pos - before_pos)\n",
    "                        data_clean[nan_idx, col] = (1 - weight) * data[before_pos, col] + \n",
    "                                                   weight * data[after_pos, col]\n",
    "                    elseif !isnothing(before_idx)\n",
    "                        # Use last valid value\n",
    "                        data_clean[nan_idx, col] = data[valid_indices[before_idx], col]\n",
    "                    elseif !isnothing(after_idx)\n",
    "                        # Use next valid value\n",
    "                        data_clean[nan_idx, col] = data[valid_indices[after_idx], col]\n",
    "                    end\n",
    "                end\n",
    "            end\n",
    "        end\n",
    "    end\n",
    "    \n",
    "    return data_clean\n",
    "end"
   ]
  },
  {
   "cell_type": "code",
   "execution_count": 55,
   "id": "8f7df021",
   "metadata": {},
   "outputs": [
    {
     "data": {
      "text/plain": [
       "main (generic function with 1 method)"
      ]
     },
     "metadata": {},
     "output_type": "display_data"
    }
   ],
   "source": [
    "function main()\n",
    "    # Load data\n",
    "    U, X, measurement_series, dt = load_data()\n",
    "    \n",
    "    println(\"Temperature statistics before cleaning:\")\n",
    "    check_stats(U,X)\n",
    "\n",
    "    # Clean the data\n",
    "    U_clean, X_clean = clean_data(U, X)\n",
    "    \n",
    "    println(\"Temperature statistics after cleaning:\")\n",
    "    println(\"Stator temp - Min: $(minimum(X_clean[:, 1])), Max: $(maximum(X_clean[:, 1])), Mean: $(round(mean(X_clean[:, 1]), digits=2))\")\n",
    "    println(\"Rotor temp - Min: $(minimum(X_clean[:, 2])), Max: $(maximum(X_clean[:, 2])), Mean: $(round(mean(X_clean[:, 2]), digits=2))\")\n",
    "    \n",
    "    return U_clean, X_clean, measurement_series, dt\n",
    "end"
   ]
  },
  {
   "cell_type": "code",
   "execution_count": 56,
   "id": "3b003401",
   "metadata": {},
   "outputs": [
    {
     "name": "stdout",
     "output_type": "stream",
     "text": [
      "Loading data...\n",
      "Data loaded: (594885, 21) inputs, (594885, 2) states\n",
      "Temperature statistics before cleaning:\n",
      "=== DATA STATISTICS ===\n",
      "Dataset size: 594885 samples\n",
      "\n",
      "--- TEMPERATURE STATISTICS ---\n",
      "Stator temp - Min: 32.27°C, Max: 187.66°C, Mean: 90.88°C\n",
      "Rotor temp  - Min: 32.56°C, Max: 133.19°C, Mean: 80.53°C\n",
      "\n",
      "--- KEY INPUT STATISTICS ---\n",
      "RPM         - Min: 191.0, Max: 10513.0, Mean: 3513.0\n",
      "Torque      - Min: -512.28, Max: 513.99, Mean: 0.06\n",
      "u_d voltage - Min: -404.83V, Max: 395.32V, Mean: -8.41V\n",
      "u_q voltage - Min: -56.99V, Max: 434.18V, Mean: 142.29V\n",
      "DC link V   - Min: 396.04V, Max: 755.49V, Mean: 584.44V\n",
      "i_d current - Min: -594.03A, Max: 1.5A, Mean: -74.44A\n",
      "i_q current - Min: -422.53A, Max: 420.83A, Mean: 1.16A\n",
      "\n",
      "--- COOLING SYSTEM STATISTICS ---\n",
      "Rotor oil flow   - Min: 0.83, Max: 5.9, Mean: 2.8\n",
      "Stator oil flow  - Min: 4.93, Max: 5.12, Mean: 5.0\n",
      "Oil temp entry (rotor)  - Min: 29.39°C, Max: 84.23°C\n",
      "Oil temp entry (stator) - Min: 29.39°C, Max: 82.29°C\n",
      "Oil temp exit A (rotor) - Min: 27.53°C, Max: 130.79°C\n",
      "Oil temp exit B (rotor) - Min: 29.58°C, Max: 127.66°C\n",
      "\n",
      "--- DATA QUALITY CHECKS ---\n",
      "Rows with NaN in U: 0\n",
      "Rows with NaN in X: 0\n",
      "\n",
      "--- POTENTIAL ISSUES ---\n",
      "⚠️  High temperature detected (>150°C)\n",
      "\n",
      "--- KEY CORRELATIONS ---\n",
      "RPM-Torque correlation: 0.06\n",
      "Stator-Rotor temp correlation: 0.741\n",
      "RPM-Power correlation: 0.039\n",
      "\n",
      "--- ALL INPUT FEATURES ---\n",
      "RPM - Min: 191.22, Max: 10513.0, Mean: 3512.96\n",
      "Torque - Min: -512.28, Max: 513.99, Mean: 0.06\n",
      "|Torque| - Min: 0.0, Max: 513.99, Mean: 88.28\n",
      "i_d - Min: -594.03, Max: 1.5, Mean: -74.44\n",
      "i_q - Min: -422.53, Max: 420.83, Mean: 1.16\n",
      "|i_q| - Min: 0.0, Max: 422.53, Mean: 91.09\n",
      "RMS_current - Min: 0.03, Max: 426.72, Mean: 91.31\n",
      "u_d - Min: -404.83, Max: 395.32, Mean: -8.41\n",
      "|u_d| - Min: 0.0, Max: 404.83, Mean: 62.21\n",
      "u_q - Min: -56.99, Max: 434.18, Mean: 142.29\n",
      "neutral_V - Min: 3.71, Max: 312.0, Mean: 116.77\n",
      "switch_freq - Min: 6999.0, Max: 20000.0, Mean: 12470.24\n",
      "DC_link_V - Min: 396.04, Max: 755.49, Mean: 584.44\n",
      "mod_index - Min: 0.01, Max: 1.2, Mean: 0.58\n",
      "power - Min: -269911.96, Max: 268567.15, Mean: 2330.16\n",
      "oil_flow_rotor - Min: 0.83, Max: 5.9, Mean: 2.8\n",
      "oil_flow_stator - Min: 4.93, Max: 5.12, Mean: 5.0\n",
      "oil_temp_entry_rotor - Min: 29.39, Max: 84.23, Mean: 56.4\n",
      "oil_temp_entry_stator - Min: 29.39, Max: 82.29, Mean: 56.35\n",
      "oil_temp_exit_A - Min: 27.53, Max: 130.79, Mean: 65.57\n",
      "oil_temp_exit_B - Min: 29.58, Max: 127.66, Mean: 67.51\n",
      "\n",
      "=== END STATISTICS ===\n",
      "Starting data cleaning:\n",
      "Original data shapes: U=(594885, 21), X=(594885, 2)\n",
      "Applied smoothing with window size 3\n",
      "Applied realistic value constraints\n",
      "\n",
      "=== Data Consistency Check ===\n",
      "RPM-Torque correlation: 0.06\n",
      "Stator-Rotor temperature correlation: 0.741\n",
      "=== End Consistency Check ===\n",
      "\n",
      "Data cleaning completed.\n",
      "Cleaned data shapes: U=(594885, 21), X=(594885, 2)\n",
      "Temperature statistics after cleaning:\n",
      "Stator temp - Min: 32.274298350016274, Max: 187.62956746419272, Mean: 90.88\n",
      "Rotor temp - Min: 32.55869801839193, Max: 133.18612670898438, Mean: 80.53\n"
     ]
    },
    {
     "data": {
      "text/plain": [
       "([500.010009765625 0.38555998653173446 … 59.459999084472656 61.18000030517578; 500.0199890136719 0.3923849925398827 … 59.47999954223633 61.15999984741211; … ; 500.0199890136719 0.37611001431941987 … 76.72000122070312 79.12999725341797; 499.989990234375 0.3973199978470803 … 76.72000122070312 79.12999725341797], [65.40201568603516 67.427001953125; 65.37940724690755 67.42171986897786; … ; 81.68876139322917 86.22265625; 81.68314361572266 86.21672821044922], [1; 1; … ; 10; 10;;], 0.5)"
      ]
     },
     "metadata": {},
     "output_type": "display_data"
    }
   ],
   "source": [
    "U_clean, X_clean, measurement_series, dt = main()"
   ]
  },
  {
   "cell_type": "code",
   "execution_count": 52,
   "id": "a8b8f556",
   "metadata": {},
   "outputs": [
    {
     "data": {
      "text/plain": [
       "check_stats_comparison (generic function with 1 method)"
      ]
     },
     "metadata": {},
     "output_type": "display_data"
    }
   ],
   "source": [
    "function check_stats(U, X; show_all_features=true)\n",
    "    \"\"\"\n",
    "    Check statistics for input and state variables\n",
    "    \n",
    "    Parameters:\n",
    "    - U: Input matrix (N × 21)\n",
    "    - X: State matrix (N × 2) \n",
    "    - show_all_features: if true, shows stats for all 21 input features\n",
    "    \"\"\"\n",
    "    println(\"=== DATA STATISTICS ===\")\n",
    "    println(\"Dataset size: $(size(U, 1)) samples\")\n",
    "    \n",
    "    # Temperature statistics (always show)\n",
    "    println(\"\\n--- TEMPERATURE STATISTICS ---\")\n",
    "    println(\"Stator temp - Min: $(round(minimum(X[:, 1]), digits=2))°C, Max: $(round(maximum(X[:, 1]), digits=2))°C, Mean: $(round(mean(X[:, 1]), digits=2))°C\")\n",
    "    println(\"Rotor temp  - Min: $(round(minimum(X[:, 2]), digits=2))°C, Max: $(round(maximum(X[:, 2]), digits=2))°C, Mean: $(round(mean(X[:, 2]), digits=2))°C\")\n",
    "    \n",
    "    # Key input features (always show)\n",
    "    println(\"\\n--- KEY INPUT STATISTICS ---\")\n",
    "    println(\"RPM         - Min: $(round(minimum(U[:, 1]), digits=0)), Max: $(round(maximum(U[:, 1]), digits=0)), Mean: $(round(mean(U[:, 1]), digits=0))\")\n",
    "    println(\"Torque      - Min: $(round(minimum(U[:, 2]), digits=2)), Max: $(round(maximum(U[:, 2]), digits=2)), Mean: $(round(mean(U[:, 2]), digits=2))\")\n",
    "    println(\"u_d voltage - Min: $(round(minimum(U[:, 8]), digits=2))V, Max: $(round(maximum(U[:, 8]), digits=2))V, Mean: $(round(mean(U[:, 8]), digits=2))V\")\n",
    "    println(\"u_q voltage - Min: $(round(minimum(U[:, 10]), digits=2))V, Max: $(round(maximum(U[:, 10]), digits=2))V, Mean: $(round(mean(U[:, 10]), digits=2))V\")\n",
    "    println(\"DC link V   - Min: $(round(minimum(U[:, 13]), digits=2))V, Max: $(round(maximum(U[:, 13]), digits=2))V, Mean: $(round(mean(U[:, 13]), digits=2))V\")\n",
    "    println(\"i_d current - Min: $(round(minimum(U[:, 4]), digits=2))A, Max: $(round(maximum(U[:, 4]), digits=2))A, Mean: $(round(mean(U[:, 4]), digits=2))A\")\n",
    "    println(\"i_q current - Min: $(round(minimum(U[:, 5]), digits=2))A, Max: $(round(maximum(U[:, 5]), digits=2))A, Mean: $(round(mean(U[:, 5]), digits=2))A\")\n",
    "    \n",
    "    # Oil system statistics\n",
    "    println(\"\\n--- COOLING SYSTEM STATISTICS ---\")\n",
    "    println(\"Rotor oil flow   - Min: $(round(minimum(U[:, 16]), digits=2)), Max: $(round(maximum(U[:, 16]), digits=2)), Mean: $(round(mean(U[:, 16]), digits=2))\")\n",
    "    println(\"Stator oil flow  - Min: $(round(minimum(U[:, 17]), digits=2)), Max: $(round(maximum(U[:, 17]), digits=2)), Mean: $(round(mean(U[:, 17]), digits=2))\")\n",
    "    println(\"Oil temp entry (rotor)  - Min: $(round(minimum(U[:, 18]), digits=2))°C, Max: $(round(maximum(U[:, 18]), digits=2))°C\")\n",
    "    println(\"Oil temp entry (stator) - Min: $(round(minimum(U[:, 19]), digits=2))°C, Max: $(round(maximum(U[:, 19]), digits=2))°C\")\n",
    "    println(\"Oil temp exit A (rotor) - Min: $(round(minimum(U[:, 20]), digits=2))°C, Max: $(round(maximum(U[:, 20]), digits=2))°C\")\n",
    "    println(\"Oil temp exit B (rotor) - Min: $(round(minimum(U[:, 21]), digits=2))°C, Max: $(round(maximum(U[:, 21]), digits=2))°C\")\n",
    "    \n",
    "    # Data quality checks\n",
    "    println(\"\\n--- DATA QUALITY CHECKS ---\")\n",
    "    nan_count_U = sum(any(isnan.(U), dims=2))\n",
    "    nan_count_X = sum(any(isnan.(X), dims=2))\n",
    "    println(\"Rows with NaN in U: $nan_count_U\")\n",
    "    println(\"Rows with NaN in X: $nan_count_X\")\n",
    "    \n",
    "    # Check for potential issues\n",
    "    println(\"\\n--- POTENTIAL ISSUES ---\")\n",
    "    if maximum(U[:, 1]) > 15000\n",
    "        println(\"⚠️  RPM exceeds typical automotive range (>15,000)\")\n",
    "    end\n",
    "    if maximum(X[:, 1]) > 150 || maximum(X[:, 2]) > 150\n",
    "        println(\"⚠️  High temperature detected (>150°C)\")\n",
    "    end\n",
    "    if minimum(X[:, 1]) < 0 || minimum(X[:, 2]) < 0\n",
    "        println(\"⚠️  Negative temperature detected\")\n",
    "    end\n",
    "    if abs(maximum(U[:, 8])) > 500 || abs(maximum(U[:, 10])) > 500\n",
    "        println(\"⚠️  Voltage exceeds typical automotive range (>±500V)\")\n",
    "    end\n",
    "    \n",
    "    # Correlations\n",
    "    println(\"\\n--- KEY CORRELATIONS ---\")\n",
    "    println(\"RPM-Torque correlation: $(round(cor(U[:, 1], U[:, 2]), digits=3))\")\n",
    "    println(\"Stator-Rotor temp correlation: $(round(cor(X[:, 1], X[:, 2]), digits=3))\")\n",
    "    println(\"RPM-Power correlation: $(round(cor(U[:, 1], U[:, 15]), digits=3))\")\n",
    "    \n",
    "    # All features (optional)\n",
    "    if show_all_features\n",
    "        println(\"\\n--- ALL INPUT FEATURES ---\")\n",
    "        feature_names = [\"RPM\", \"Torque\", \"|Torque|\", \"i_d\", \"i_q\", \"|i_q|\", \"RMS_current\", \n",
    "                        \"u_d\", \"|u_d|\", \"u_q\", \"neutral_V\", \"switch_freq\", \"DC_link_V\", \n",
    "                        \"mod_index\", \"power\", \"oil_flow_rotor\", \"oil_flow_stator\", \n",
    "                        \"oil_temp_entry_rotor\", \"oil_temp_entry_stator\", \n",
    "                        \"oil_temp_exit_A\", \"oil_temp_exit_B\"]\n",
    "        \n",
    "        for i in 1:size(U, 2)\n",
    "            println(\"$(feature_names[i]) - Min: $(round(minimum(U[:, i]), digits=2)), Max: $(round(maximum(U[:, i]), digits=2)), Mean: $(round(mean(U[:, i]), digits=2))\")\n",
    "        end\n",
    "    end\n",
    "    \n",
    "    println(\"\\n=== END STATISTICS ===\")\n",
    "end\n",
    "\n",
    "# Convenience function for before/after cleaning comparison\n",
    "function check_stats_comparison(U_before, X_before, U_after, X_after)\n",
    "    \"\"\"Compare statistics before and after cleaning\"\"\"\n",
    "    println(\"BEFORE CLEANING:\")\n",
    "    println(\"================\")\n",
    "    check_stats(U_before, X_before)\n",
    "    \n",
    "    println(\"\\n\\nAFTER CLEANING:\")\n",
    "    println(\"===============\")\n",
    "    check_stats(U_after, X_after)\n",
    "    \n",
    "    println(\"\\n\\nCHANGES SUMMARY:\")\n",
    "    println(\"================\")\n",
    "    println(\"Data points: $(size(U_before, 1)) → $(size(U_after, 1)) ($(size(U_before, 1) - size(U_after, 1)) removed)\")\n",
    "    \n",
    "    temp_change_stator = abs(mean(X_after[:, 1]) - mean(X_before[:, 1]))\n",
    "    temp_change_rotor = abs(mean(X_after[:, 2]) - mean(X_before[:, 2]))\n",
    "    \n",
    "    println(\"Mean temperature change:\")\n",
    "    println(\"  Stator: $(round(temp_change_stator, digits=3))°C\")\n",
    "    println(\"  Rotor:  $(round(temp_change_rotor, digits=3))°C\")\n",
    "end"
   ]
  }
 ],
 "metadata": {
  "kernelspec": {
   "display_name": "Julia 1.11.0",
   "language": "julia",
   "name": "julia-1.11"
  },
  "language_info": {
   "file_extension": ".jl",
   "mimetype": "application/julia",
   "name": "julia",
   "version": "1.11.0"
  }
 },
 "nbformat": 4,
 "nbformat_minor": 5
}
