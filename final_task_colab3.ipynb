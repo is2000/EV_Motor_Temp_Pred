{
  "cells": [
    {
      "cell_type": "markdown",
      "id": "ab2b1e19-1fd3-4319-8cc3-585473cf568a",
      "metadata": {
        "id": "ab2b1e19-1fd3-4319-8cc3-585473cf568a"
      },
      "source": [
        "## DS4DS Final Task:\n",
        "\n",
        "Upload your solution (training pipeline and final model ready for inference) as one archive file (.zip) to moodle at least three days prior to your exam appointments. Request an appointment at least two weeks in advance via email (oliver.wallscheid@uni-siegen.de). The latest exam date will be by end of September 2025."
      ]
    },
    {
      "cell_type": "markdown",
      "id": "e5f6bcac",
      "metadata": {
        "id": "e5f6bcac"
      },
      "source": []
    },
    {
      "cell_type": "code",
      "execution_count": null,
      "id": "8e4c24d1-0e11-4b63-9abe-0f48972f8af9",
      "metadata": {
        "id": "8e4c24d1-0e11-4b63-9abe-0f48972f8af9",
        "tags": []
      },
      "outputs": [],
      "source": [
        "using Pkg\n",
        "Pkg.activate(\"Project.toml\")\n",
        "Pkg.instantiate()\n",
        "Pkg.status()"
      ]
    },
    {
      "cell_type": "code",
      "execution_count": null,
      "id": "341ea364-78bf-402a-87da-b833f9fe061b",
      "metadata": {
        "collapsed": true,
        "id": "341ea364-78bf-402a-87da-b833f9fe061b",
        "tags": []
      },
      "outputs": [],
      "source": [
        "# this might take a few minutes, but you should only need to do this once\n",
        "# when you use the project for the first time\n",
        "Pkg.precompile()"
      ]
    },
    {
      "cell_type": "code",
      "execution_count": null,
      "id": "9b36555d-afa1-46f3-ab6e-48517fa829b0",
      "metadata": {
        "id": "9b36555d-afa1-46f3-ab6e-48517fa829b0",
        "tags": []
      },
      "outputs": [],
      "source": [
        "using MAT\n",
        "using PlotlyJS\n",
        "using LaTeXStrings\n",
        "using Serialization\n",
        "using StatsBase\n",
        "using Flux\n",
        "\n",
        "include(\"utils.jl\");"
      ]
    },
    {
      "cell_type": "code",
      "source": [
        "# Feature engineering function\n",
        "function feature_engg(u)\n",
        "    return u\n",
        "end"
      ],
      "metadata": {
        "id": "XQkehiRReA25"
      },
      "id": "XQkehiRReA25",
      "execution_count": null,
      "outputs": []
    },
    {
      "cell_type": "code",
      "execution_count": null,
      "id": "adc40cf9",
      "metadata": {
        "id": "adc40cf9"
      },
      "outputs": [],
      "source": [
        "include(\"utils.jl\")\n",
        "# Data preparation\n",
        "function prepare_sequences(U_raw, X_raw, measurement_series, series_indices; max_length=8000)\n",
        "    sequences = []\n",
        "\n",
        "    #Extraction\n",
        "    for series_idx in series_indices\n",
        "        u_series = Float32.(extract(U_raw, measurement_series, series_idx))\n",
        "        x_series = Float32.(extract(X_raw, measurement_series, series_idx))\n",
        "\n",
        "        # Limiting length of sequences\n",
        "        T = min(size(x_series, 1), max_length)\n",
        "\n",
        "        sequence = Dict(\n",
        "            \"U\" => u_series[1:T, :],     # [T × 21] inputs\n",
        "            \"X\" => x_series[1:T, :],     # [T × 2] ground truth\n",
        "            \"x0\" => x_series[1, :],      # [2] initial state\n",
        "            \"T\" => T,\n",
        "            \"series_idx\" => series_idx\n",
        "        )\n",
        "\n",
        "        push!(sequences, sequence)\n",
        "        println(\"Series $series_idx: $T timesteps\")\n",
        "    end\n",
        "\n",
        "    return sequences\n",
        "end\n"
      ]
    },
    {
      "cell_type": "code",
      "execution_count": null,
      "id": "dd3fcec8",
      "metadata": {
        "id": "dd3fcec8"
      },
      "outputs": [],
      "source": [
        "#new normalisation\n",
        "function compute_normalization_stats(sequences)\n",
        "\n",
        "    all_U = vcat([seq[\"U\"] for seq in sequences]...)\n",
        "    all_X = vcat([seq[\"X\"] for seq in sequences]...)\n",
        "\n",
        "    U_stats = (min=minimum(all_U, dims=1), max=maximum(all_U, dims=1))\n",
        "    X_stats = (min=minimum(all_X, dims=1), max=maximum(all_X, dims=1))\n",
        "\n",
        "    return U_stats, X_stats\n",
        "end\n",
        "\n",
        "function normalize_minmax(data, stats)\n",
        "    return (data .- stats.min) ./ (stats.max .- stats.min .+ 1f-8)\n",
        "end\n",
        "\n",
        "function denormalize_minmax(data, stats)\n",
        "    return data .* (stats.max .- stats.min .+ 1f-8) .+ stats.min\n",
        "end"
      ]
    },
    {
      "cell_type": "code",
      "execution_count": null,
      "id": "56efcd39",
      "metadata": {
        "id": "56efcd39"
      },
      "outputs": [],
      "source": [
        "function create_thermal_model(n_inputs=21, n_states=2, hidden_dims=[64, 64, 32])\n",
        "    input_dim = n_states + n_inputs\n",
        "\n",
        "    chain = Chain(\n",
        "        Dense(input_dim, hidden_dims[1], tanh),\n",
        "        [Dense(hidden_dims[i-1], hidden_dims[i], tanh) for i in 2:length(hidden_dims)]...,\n",
        "        Dense(hidden_dims[end], n_states)\n",
        "    )\n",
        "\n",
        "    return chain\n",
        "end"
      ]
    },
    {
      "cell_type": "code",
      "source": [
        "# Debug code to check model creation\n",
        "function model_debug(model)\n",
        "\n",
        "    # Check model type and structure\n",
        "    println(\"Model type: \", typeof(model))\n",
        "    println(\"Model structure: \", model)\n",
        "\n",
        "    # Check layers\n",
        "    println(\"\\nLayers:\")\n",
        "    for (i, layer) in enumerate(model.layers)\n",
        "        println(\"Layer $i: \", typeof(layer), \" - \", layer)\n",
        "    end\n",
        "\n",
        "    # Count parameters\n",
        "    total_params = sum(length, Flux.params(model))\n",
        "    println(\"\\nTotal parameters: \", total_params)\n",
        "\n",
        "    # Individual layer parameter counts\n",
        "    println(\"\\nParameter breakdown:\")\n",
        "    for (i, layer) in enumerate(model.layers)\n",
        "        layer_params = sum(length, Flux.params(layer))\n",
        "        println(\"Layer $i parameters: \", layer_params)\n",
        "    end\n",
        "\n",
        "    # Test a forward pass\n",
        "    println(\"\\nTesting forward pass:\")\n",
        "    test_input = randn(Float32, 23)  # 23 inp\n",
        "    try\n",
        "        output = model(test_input)\n",
        "        println(\"Forward pass successful. Output shape: \", size(output))\n",
        "        println(\"Output: \", output)\n",
        "    catch e\n",
        "        println(\"Forward pass failed: \", e)\n",
        "    end\n",
        "end"
      ],
      "metadata": {
        "id": "EruZA1GYZCwM"
      },
      "id": "EruZA1GYZCwM",
      "execution_count": null,
      "outputs": []
    },
    {
      "cell_type": "code",
      "execution_count": null,
      "id": "tl7rdWg2LZME",
      "metadata": {
        "id": "tl7rdWg2LZME"
      },
      "outputs": [],
      "source": [
        "function train_thermal_model!(model, opt_state, train_sequences, val_sequences, U_stats, X_stats; epochs=70)\n",
        "    println(\"Starting training:\")\n",
        "    println(\"Training sequences: $(length(train_sequences))\")\n",
        "    println(\"Validation sequences: $(length(val_sequences))\")\n",
        "\n",
        "    train_losses = []\n",
        "    val_losses = []\n",
        "\n",
        "    for epoch in 1:epochs\n",
        "        epoch_loss = 0.0\n",
        "\n",
        "        for seq in train_sequences\n",
        "            loss = train_step!(model, opt_state, seq, U_stats, X_stats)\n",
        "            epoch_loss += loss\n",
        "        end\n",
        "        avg_train_loss = epoch_loss / length(train_sequences)\n",
        "\n",
        "        # Validation\n",
        "        val_mse, _ = evaluate_autoregressive_rollout(model, val_sequences, U_stats, X_stats)\n",
        "\n",
        "        push!(train_losses, avg_train_loss)\n",
        "        push!(val_losses, val_mse)\n",
        "\n",
        "        if epoch % 5 == 0 || epoch == 1\n",
        "            println(\"Epoch $epoch: Train Loss = $(round(avg_train_loss, digits=4)), Val MSE = $(round(val_mse, digits=4))\")\n",
        "        end\n",
        "    end\n",
        "\n",
        "    return train_losses, val_losses\n",
        "end"
      ]
    },
    {
      "cell_type": "code",
      "execution_count": null,
      "id": "a372e097",
      "metadata": {
        "id": "a372e097"
      },
      "outputs": [],
      "source": [
        "function train_step!(model, opt_state, sequence, U_stats, X_stats)\n",
        "    # Normalize data\n",
        "    U_norm = normalize_minmax(sequence[\"U\"], U_stats)\n",
        "    X_norm = normalize_minmax(sequence[\"X\"], X_stats)\n",
        "\n",
        "    T = sequence[\"T\"]\n",
        "\n",
        "    # Loss\n",
        "    loss, grads = Flux.withgradient(model) do m\n",
        "        total_loss = 0.0\n",
        "\n",
        "        x_current = X_norm[1, :]  #initial state\n",
        "\n",
        "        # Autoregressive\n",
        "        for t in 2:T\n",
        "            # Current input (use u[t-1] to predict x[t])\n",
        "            u_t = U_norm[t-1, :]\n",
        "            model_input = vcat(x_current, u_t)\n",
        "\n",
        "            # Target: true_x[t]\n",
        "            x_target = X_norm[t, :]\n",
        "\n",
        "            # Prediction\n",
        "            x_pred = m(model_input)\n",
        "\n",
        "            # Loss\n",
        "            total_loss += mean(abs2, x_pred - x_target)\n",
        "\n",
        "            # Set initial\n",
        "            x_current = x_pred\n",
        "        end\n",
        "\n",
        "        return total_loss / (T-1) #loss per timestep\n",
        "    end\n",
        "\n",
        "    # Update parameters\n",
        "    Flux.update!(opt_state, model, grads[1])\n",
        "\n",
        "    return loss\n",
        "end"
      ]
    },
    {
      "cell_type": "code",
      "execution_count": null,
      "id": "d9743f17",
      "metadata": {
        "id": "d9743f17"
      },
      "outputs": [],
      "source": [
        "function evaluate_autoregressive_rollout(model, sequences, U_stats, X_stats)\n",
        "    total_mse = 0.0\n",
        "    all_predictions = []\n",
        "\n",
        "    for seq in sequences\n",
        "        T = seq[\"T\"]\n",
        "        #U_clean = clean_data(seq[\"U\"])\n",
        "        U_clean = seq[\"U\"]\n",
        "        U_norm = normalize_minmax(U_clean, U_stats)\n",
        "        X_true = seq[\"X\"]   #not normalized or cleaned as it is ground truth\n",
        "\n",
        "        # Initialize prediction array\n",
        "        X_pred = zeros(Float32, T, 2)\n",
        "\n",
        "        # Starting with true initial state\n",
        "        X_pred[1, :] = seq[\"x0\"]\n",
        "        x_current = normalize_minmax(reshape(seq[\"x0\"], 1, :), X_stats)[1, :]\n",
        "\n",
        "        # Autoregressive\n",
        "        for t in 2:T\n",
        "            # Current\n",
        "            u_t = U_norm[t-1, :]\n",
        "\n",
        "            # Model input: [predicted_x[t-1], u[t-1]]\n",
        "            model_input = vcat(x_current, u_t)\n",
        "\n",
        "            # Predict next state\n",
        "            x_next_norm = model(model_input)\n",
        "\n",
        "            # Denormalize and store\n",
        "            x_next = denormalize_minmax(reshape(x_next_norm, 1, :), X_stats)[1, :]\n",
        "            X_pred[t, :] = x_next\n",
        "\n",
        "            # Update current state for next prediction (keep normalized)\n",
        "            x_current = x_next_norm\n",
        "        end\n",
        "\n",
        "        # Calculate MSE wihtout norm\n",
        "        mse_val = mean((X_pred - X_true).^2)\n",
        "        total_mse += mse_val\n",
        "        push!(all_predictions, X_pred)\n",
        "    end\n",
        "\n",
        "    avg_mse = total_mse / length(sequences)\n",
        "    return avg_mse, all_predictions\n",
        "end"
      ]
    },
    {
      "cell_type": "code",
      "source": [
        "# Plotting\n",
        "function plot_sample_predictions(true_temps, pred_temps)\n",
        "T = size(true_temps, 1)\n",
        "    timesteps = 1:T\n",
        "\n",
        "    # Stator (col1)\n",
        "    p1 = PlotlyJS.plot([\n",
        "        PlotlyJS.scatter(\n",
        "            x=timesteps,\n",
        "            y=true_temps[:, 1],\n",
        "            mode=\"lines\",\n",
        "            name=\"True Stator\",\n",
        "            line=attr(color=\"blue\")\n",
        "        ),\n",
        "        PlotlyJS.scatter(\n",
        "            x=timesteps,\n",
        "            y=pred_temps[:, 1],\n",
        "            mode=\"lines\",\n",
        "            name=\"Predicted Stator\",\n",
        "            line=attr(color=\"red\", dash=\"dash\")\n",
        "        )\n",
        "    ], Layout(\n",
        "        title=\"Stator Temperature Comparison\",\n",
        "        xaxis_title=\"Time Step\",\n",
        "        yaxis_title=\"Temperature (°C)\"\n",
        "    ))\n",
        "\n",
        "    # Rotor (col2)\n",
        "    p2 = PlotlyJS.plot([\n",
        "        PlotlyJS.scatter(\n",
        "            x=timesteps,\n",
        "            y=true_temps[:, 2],\n",
        "            mode=\"lines\",\n",
        "            name=\"True Rotor\",\n",
        "            line=attr(color=\"green\")\n",
        "        ),\n",
        "        PlotlyJS.scatter(\n",
        "            x=timesteps,\n",
        "            y=pred_temps[:, 2],\n",
        "            mode=\"lines\",\n",
        "            name=\"Predicted Rotor\",\n",
        "            line=attr(color=\"orange\", dash=\"dash\")\n",
        "        )\n",
        "    ], Layout(\n",
        "        title=\"Rotor Temperature Comparison\",\n",
        "        xaxis_title=\"Time Step\",\n",
        "        yaxis_title=\"Temperature (°C)\"\n",
        "    ))\n",
        "\n",
        "    # Save plots as images\n",
        "    PlotlyJS.savefig(p1, \"stator_temperature_comparison.png\")\n",
        "    PlotlyJS.savefig(p2, \"rotor_temperature_comparison.png\")\n",
        "\n",
        "    # Display plots (optional)\n",
        "    display(p1)\n",
        "    display(p2)\n",
        "\n",
        "end"
      ],
      "metadata": {
        "id": "SrOppidsij9P"
      },
      "id": "SrOppidsij9P",
      "execution_count": null,
      "outputs": []
    },
    {
      "cell_type": "code",
      "source": [
        "# Load data\n",
        "function load_data()\n",
        "    println(\"Loading data...\")\n",
        "    data = matread(\"train_data.mat\")\n",
        "    U = data[\"U\"]\n",
        "    X = data[\"X\"]\n",
        "    measurement_series = data[\"measurement_series\"]\n",
        "    dt = data[\"dt\"]\n",
        "    println(\"Data loaded: $(size(U)) inputs, $(size(X)) states\")\n",
        "    return U, X, measurement_series, dt\n",
        "end"
      ],
      "metadata": {
        "id": "zGyTQSyeUy46"
      },
      "id": "zGyTQSyeUy46",
      "execution_count": null,
      "outputs": []
    },
    {
      "cell_type": "code",
      "source": [
        "#Clean the data\n",
        "function clean_data(U, X)\n",
        "    return U, X\n",
        "end"
      ],
      "metadata": {
        "id": "tZ1uLySIedqy"
      },
      "id": "tZ1uLySIedqy",
      "execution_count": null,
      "outputs": []
    },
    {
      "cell_type": "code",
      "execution_count": null,
      "id": "c5ee8bae",
      "metadata": {
        "id": "c5ee8bae"
      },
      "outputs": [],
      "source": [
        "function main()\n",
        "    # Load data\n",
        "    U, X, measurement_series, dt = load_data()\n",
        "\n",
        "    # Clean the data\n",
        "    #U_clean, X_clean = clean_data(U, X)\n",
        "    U_clean = U\n",
        "    X_clean = X\n",
        "\n",
        "    # Preparing sequences for training\n",
        "    println(\"\\nPreparing sequences for training:\")\n",
        "    train_sequences = prepare_sequences(U_clean, X_clean, measurement_series, [3,4])\n",
        "    val_sequences = prepare_sequences(U_clean, X_clean, measurement_series, [5])\n",
        "    test_sequences = prepare_sequences(U_clean, X_clean, measurement_series, [9])\n",
        "\n",
        "    # Norm stats\n",
        "    U_stats, X_stats = compute_normalization_stats(train_sequences)\n",
        "\n",
        "    # Create model\n",
        "    println(\"\\nCreating model:\")\n",
        "    model = create_thermal_model(21, 2, [64, 32, 16])\n",
        "    n_params = sum(length, Flux.state(model))\n",
        "    println(\"Model created with $n_params parameters\")\n",
        "\n",
        "    # Debug model\n",
        "    model_debug(model)\n",
        "\n",
        "    # Optimizer\n",
        "    optimizer = ADAM(0.001)\n",
        "    opt_state = Flux.setup(optimizer, model)\n",
        "\n",
        "    # Train model\n",
        "    println(\"\\nTraining model:\")\n",
        "    train_losses, val_losses = train_thermal_model!(\n",
        "        model, opt_state, train_sequences, val_sequences, U_stats, X_stats, epochs=100\n",
        "    )\n",
        "\n",
        "    # Final evaluation on test set\n",
        "    println(\"\\nFinal evaluation...\")\n",
        "    test_mse, test_predictions = evaluate_autoregressive_rollout(model, test_sequences, U_stats, X_stats)\n",
        "    println(\"Final Test MSE: $(round(test_mse, digits=4))\")\n",
        "\n",
        "    # Save model and normalization parameters\n",
        "    println(\"\\nSaving model...\")\n",
        "    model_data = Dict(\n",
        "        \"model_params\" => Flux.state(model),\n",
        "        \"U_stats\" => U_stats,\n",
        "        \"X_stats\" => X_stats,\n",
        "        \"model_architecture\" => [64, 32, 16],  # For reconstruction\n",
        "        \"train_losses\" => train_losses,\n",
        "        \"val_losses\" => val_losses,\n",
        "        \"test_mse\" => test_mse\n",
        "    )\n",
        "\n",
        "    serialize(\"final_task_parameters\", model_data)\n",
        "    println(\"Model saved to 'final_task_parameters'\")\n",
        "\n",
        "    # Plot training curves\n",
        "    #plot_training_curves(train_losses, val_losses)\n",
        "\n",
        "    # Plot sample predictions\n",
        "    plot_sample_predictions(test_sequences[1][\"X\"], test_predictions[1])\n",
        "\n",
        "    return model, model_data\n",
        "end"
      ]
    },
    {
      "cell_type": "code",
      "execution_count": null,
      "id": "5df95e35",
      "metadata": {
        "id": "5df95e35"
      },
      "outputs": [],
      "source": [
        "model, model_data = main()\n"
      ]
    },
    {
      "cell_type": "code",
      "execution_count": null,
      "id": "f2d351d9",
      "metadata": {
        "id": "f2d351d9"
      },
      "outputs": [],
      "source": [
        "final_model = model\n",
        "\n",
        "#test_loss = evaluate_model(final_model, test_inputs, test_targets)\n",
        "#println(\"Final test Loss: $test_loss\")\n",
        "\n",
        "serialize(\"final_task_parameters\", Flux.state(final_model))"
      ]
    },
    {
      "cell_type": "code",
      "metadata": {
        "id": "5e7c6ee9"
      },
      "source": [
        "using DelimitedFiles\n",
        "\n",
        "# List files in the current directory\n",
        "files = readdir(\".\")\n",
        "println(\"Files in the current directory:\")\n",
        "for file in files\n",
        "    println(file)\n",
        "end"
      ],
      "id": "5e7c6ee9",
      "execution_count": null,
      "outputs": []
    },
    {
      "cell_type": "markdown",
      "id": "cb93b368-0665-45fc-a72c-80a370dcaec5",
      "metadata": {
        "id": "cb93b368-0665-45fc-a72c-80a370dcaec5"
      },
      "source": [
        "### Saving your model for evaluation:\n",
        "\n",
        "After you have finished your model, we will evaluate its performance on the test dataset. To do so we will need to be able to make a forward pass with your model and we will need you to give us your model parameters.\n",
        "\n",
        "- fill out the function given in ```model_forward_pass.jl```\n",
        "- store your parameters in a file named ```final_task_parameters```\n",
        "\n",
        "```\n",
        "# Example code for storing parameters:\n",
        "\n",
        "if @isdefined parameters\n",
        "    serialize(\"final_task_parameters\", parameters)\n",
        "end\n",
        "```\n",
        "\n",
        "You can use the code below on the training to check if your result can be read properly **(If you run into problems with this or if your forward pass needs extra inputs, please contact us)**:"
      ]
    },
    {
      "cell_type": "code",
      "execution_count": null,
      "id": "ac3f9fe7-0072-416d-8862-6575b588a7f7",
      "metadata": {
        "id": "ac3f9fe7-0072-416d-8862-6575b588a7f7",
        "tags": []
      },
      "outputs": [],
      "source": [
        "include(\"model_forward_pass.jl\");\n",
        "using .ModelForwardPass"
      ]
    },
    {
      "cell_type": "code",
      "execution_count": null,
      "id": "98ca0ee1-875d-4ae8-bb8d-d7178374cb7a",
      "metadata": {
        "id": "98ca0ee1-875d-4ae8-bb8d-d7178374cb7a",
        "tags": []
      },
      "outputs": [],
      "source": [
        "?ModelForwardPass.your_model_forward_pass"
      ]
    },
    {
      "cell_type": "code",
      "execution_count": null,
      "id": "a3598ff1-48bd-4cd3-87b6-6c94d46e09d1",
      "metadata": {
        "id": "a3598ff1-48bd-4cd3-87b6-6c94d46e09d1",
        "tags": []
      },
      "outputs": [],
      "source": [
        "parameters_evaluation = deserialize(\"final_task_parameters\");\n",
        "\n",
        "measurement_series_idx = 1\n",
        "\n",
        "_u = extract(U, measurement_series, measurement_series_idx);\n",
        "_target = extract(X, measurement_series, measurement_series_idx);\n",
        "_x0 = _target[1, :];\n",
        "\n",
        "tsteps = collect(0:0.5:(size(_u, 1) * 0.5));\n",
        "\n",
        "predicted_trajectory = ModelForwardPass.your_model_forward_pass(\n",
        "    inputs=_u,\n",
        "    x0=_x0,\n",
        "    parameters=parameters_evaluation,\n",
        "    tsteps=tsteps\n",
        ");\n",
        "\n",
        "println(\"MSE: \", StatsBase.mean((_target - predicted_trajectory).^2))\n",
        "\n",
        "p_eval = plot(xlabel=L\"k\", ylabel=L\"x\")\n",
        "\n",
        "p_eval = plot_at_idx(p_eval, X, measurement_series, XNames, measurement_series_idx=measurement_series_idx, feature_idx=1)\n",
        "p_eval = plot!(p_eval, predicted_trajectory[:, 1], label=L\"\\hat{x}_1\")\n",
        "\n",
        "display(p_eval)\n",
        "\n",
        "p_eval = plot(xlabel=L\"k\", ylabel=L\"x\")\n",
        "\n",
        "p_eval = plot_at_idx(p_eval, X, measurement_series, XNames, measurement_series_idx=measurement_series_idx, feature_idx=2)\n",
        "p_eval = plot!(p_eval, predicted_trajectory[:, 2], label=L\"\\hat{x}_2\")\n",
        "\n",
        "display(p_eval)"
      ]
    },
    {
      "cell_type": "code",
      "execution_count": null,
      "id": "fd3cf9a9-c00b-4e5a-9d01-f453aae9b421",
      "metadata": {
        "id": "fd3cf9a9-c00b-4e5a-9d01-f453aae9b421"
      },
      "outputs": [],
      "source": []
    }
  ],
  "metadata": {
    "colab": {
      "provenance": []
    },
    "kernelspec": {
      "display_name": "Julia",
      "name": "julia"
    },
    "language_info": {
      "name": "julia"
    }
  },
  "nbformat": 4,
  "nbformat_minor": 5
}